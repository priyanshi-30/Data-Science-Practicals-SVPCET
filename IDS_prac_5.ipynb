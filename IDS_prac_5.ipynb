{
  "nbformat": 4,
  "nbformat_minor": 0,
  "metadata": {
    "colab": {
      "provenance": []
    },
    "kernelspec": {
      "name": "ir",
      "display_name": "R"
    },
    "language_info": {
      "name": "R"
    }
  },
  "cells": [
    {
      "cell_type": "code",
      "execution_count": null,
      "metadata": {
        "colab": {
          "base_uri": "https://localhost:8080/",
          "height": 129
        },
        "id": "JSd0VmoNrz3Q",
        "outputId": "ee831131-9fee-485a-e3eb-5a78cd4720fc"
      },
      "outputs": [
        {
          "output_type": "display_data",
          "data": {
            "text/html": [
              "<table class=\"dataframe\">\n",
              "<caption>A matrix: 2 × 6 of type dbl</caption>\n",
              "<thead>\n",
              "\t<tr><th></th><th scope=col>used</th><th scope=col>(Mb)</th><th scope=col>gc trigger</th><th scope=col>(Mb)</th><th scope=col>max used</th><th scope=col>(Mb)</th></tr>\n",
              "</thead>\n",
              "<tbody>\n",
              "\t<tr><th scope=row>Ncells</th><td> 749138</td><td>40.1</td><td>1439658</td><td>76.9</td><td>1439658</td><td>76.9</td></tr>\n",
              "\t<tr><th scope=row>Vcells</th><td>1385583</td><td>10.6</td><td>8388608</td><td>64.0</td><td>5471716</td><td>41.8</td></tr>\n",
              "</tbody>\n",
              "</table>\n"
            ],
            "text/markdown": "\nA matrix: 2 × 6 of type dbl\n\n| <!--/--> | used | (Mb) | gc trigger | (Mb) | max used | (Mb) |\n|---|---|---|---|---|---|---|\n| Ncells |  749138 | 40.1 | 1439658 | 76.9 | 1439658 | 76.9 |\n| Vcells | 1385583 | 10.6 | 8388608 | 64.0 | 5471716 | 41.8 |\n\n",
            "text/latex": "A matrix: 2 × 6 of type dbl\n\\begin{tabular}{r|llllll}\n  & used & (Mb) & gc trigger & (Mb) & max used & (Mb)\\\\\n\\hline\n\tNcells &  749138 & 40.1 & 1439658 & 76.9 & 1439658 & 76.9\\\\\n\tVcells & 1385583 & 10.6 & 8388608 & 64.0 & 5471716 & 41.8\\\\\n\\end{tabular}\n",
            "text/plain": [
              "       used    (Mb) gc trigger (Mb) max used (Mb)\n",
              "Ncells  749138 40.1 1439658    76.9 1439658  76.9\n",
              "Vcells 1385583 10.6 8388608    64.0 5471716  41.8"
            ]
          },
          "metadata": {}
        }
      ],
      "source": [
        "rm(list=ls())\n",
        "gc()"
      ]
    },
    {
      "cell_type": "code",
      "source": [
        "cat(\"\\f\")"
      ],
      "metadata": {
        "colab": {
          "base_uri": "https://localhost:8080/"
        },
        "id": "h8RDTLOkssku",
        "outputId": "ed8bd346-757a-41b1-c729-488de3e100b1"
      },
      "execution_count": null,
      "outputs": [
        {
          "output_type": "stream",
          "name": "stdout",
          "text": [
            "\f"
          ]
        }
      ]
    },
    {
      "cell_type": "code",
      "source": [
        "graphics.off()\n",
        "\n",
        "library(psych)\n",
        "library(e1071)\n",
        "library(ggplot2)\n"
      ],
      "metadata": {
        "colab": {
          "base_uri": "https://localhost:8080/",
          "height": 106
        },
        "id": "RRokSe4Nssm9",
        "outputId": "1e25f2c7-69df-4f32-df54-cda3cd2aa9d0"
      },
      "execution_count": null,
      "outputs": [
        {
          "output_type": "error",
          "ename": "ERROR",
          "evalue": "Error in library(e1071): there is no package called ‘e1071’\n",
          "traceback": [
            "Error in library(e1071): there is no package called ‘e1071’\nTraceback:\n",
            "1. stop(packageNotFoundError(package, lib.loc, sys.call()))"
          ]
        }
      ]
    },
    {
      "cell_type": "code",
      "source": [
        "library(gridExtra)\n",
        "library(patchwork)"
      ],
      "metadata": {
        "colab": {
          "base_uri": "https://localhost:8080/",
          "height": 106
        },
        "id": "i_7m3-HdssqZ",
        "outputId": "90eb6157-64a2-48a4-ae62-a8b7eb1d74bf"
      },
      "execution_count": null,
      "outputs": [
        {
          "output_type": "error",
          "ename": "ERROR",
          "evalue": "Error in library(gridExtra): there is no package called ‘gridExtra’\n",
          "traceback": [
            "Error in library(gridExtra): there is no package called ‘gridExtra’\nTraceback:\n",
            "1. stop(packageNotFoundError(package, lib.loc, sys.call()))"
          ]
        }
      ]
    },
    {
      "cell_type": "code",
      "source": [
        "right_skewed_data <- c(5, 10, 15, 20, 30, 50, 80, 150, 300, 500)\n",
        "describe(right_skewed_data)\n"
      ],
      "metadata": {
        "colab": {
          "base_uri": "https://localhost:8080/",
          "height": 149
        },
        "id": "QvuvECWruLfz",
        "outputId": "4be6f722-2220-4924-a6b1-e9fdc8e1e4a1"
      },
      "execution_count": null,
      "outputs": [
        {
          "output_type": "display_data",
          "data": {
            "text/html": [
              "<table class=\"dataframe\">\n",
              "<caption>A psych: 1 × 13</caption>\n",
              "<thead>\n",
              "\t<tr><th></th><th scope=col>vars</th><th scope=col>n</th><th scope=col>mean</th><th scope=col>sd</th><th scope=col>median</th><th scope=col>trimmed</th><th scope=col>mad</th><th scope=col>min</th><th scope=col>max</th><th scope=col>range</th><th scope=col>skew</th><th scope=col>kurtosis</th><th scope=col>se</th></tr>\n",
              "\t<tr><th></th><th scope=col>&lt;dbl&gt;</th><th scope=col>&lt;dbl&gt;</th><th scope=col>&lt;dbl&gt;</th><th scope=col>&lt;dbl&gt;</th><th scope=col>&lt;dbl&gt;</th><th scope=col>&lt;dbl&gt;</th><th scope=col>&lt;dbl&gt;</th><th scope=col>&lt;dbl&gt;</th><th scope=col>&lt;dbl&gt;</th><th scope=col>&lt;dbl&gt;</th><th scope=col>&lt;dbl&gt;</th><th scope=col>&lt;dbl&gt;</th><th scope=col>&lt;dbl&gt;</th></tr>\n",
              "</thead>\n",
              "<tbody>\n",
              "\t<tr><th scope=row>X1</th><td>1</td><td>10</td><td>116</td><td>162.7848</td><td>40</td><td>81.875</td><td>48.1845</td><td>5</td><td>500</td><td>495</td><td>1.331783</td><td>0.3371601</td><td>51.47707</td></tr>\n",
              "</tbody>\n",
              "</table>\n"
            ],
            "text/markdown": "\nA psych: 1 × 13\n\n| <!--/--> | vars &lt;dbl&gt; | n &lt;dbl&gt; | mean &lt;dbl&gt; | sd &lt;dbl&gt; | median &lt;dbl&gt; | trimmed &lt;dbl&gt; | mad &lt;dbl&gt; | min &lt;dbl&gt; | max &lt;dbl&gt; | range &lt;dbl&gt; | skew &lt;dbl&gt; | kurtosis &lt;dbl&gt; | se &lt;dbl&gt; |\n|---|---|---|---|---|---|---|---|---|---|---|---|---|---|\n| X1 | 1 | 10 | 116 | 162.7848 | 40 | 81.875 | 48.1845 | 5 | 500 | 495 | 1.331783 | 0.3371601 | 51.47707 |\n\n",
            "text/latex": "A psych: 1 × 13\n\\begin{tabular}{r|lllllllllllll}\n  & vars & n & mean & sd & median & trimmed & mad & min & max & range & skew & kurtosis & se\\\\\n  & <dbl> & <dbl> & <dbl> & <dbl> & <dbl> & <dbl> & <dbl> & <dbl> & <dbl> & <dbl> & <dbl> & <dbl> & <dbl>\\\\\n\\hline\n\tX1 & 1 & 10 & 116 & 162.7848 & 40 & 81.875 & 48.1845 & 5 & 500 & 495 & 1.331783 & 0.3371601 & 51.47707\\\\\n\\end{tabular}\n",
            "text/plain": [
              "   vars n  mean sd       median trimmed mad     min max range skew    \n",
              "X1 1    10 116  162.7848 40     81.875  48.1845 5   500 495   1.331783\n",
              "   kurtosis  se      \n",
              "X1 0.3371601 51.47707"
            ]
          },
          "metadata": {}
        }
      ]
    },
    {
      "cell_type": "code",
      "source": [
        "plot(x = density(right_skewed_data),\n",
        "     main = \"Right-Skewed Data\",\n",
        "     xlab = \"Value\",\n",
        "     ylab = \"Frequency\"\n",
        "     )\n"
      ],
      "metadata": {
        "id": "uHnEO0cSuSXo",
        "outputId": "ca75ebeb-6f3f-482d-af01-25c222be75e7",
        "colab": {
          "base_uri": "https://localhost:8080/",
          "height": 437
        }
      },
      "execution_count": null,
      "outputs": [
        {
          "output_type": "display_data",
          "data": {
            "text/plain": [
              "Plot with title “Right-Skewed Data”"
            ],
            "image/png": "[encoded data removed]"
          },
          "metadata": {
            "image/png": {
              "width": 420,
              "height": 420
            }
          }
        }
      ]
    },
    {
      "cell_type": "code",
      "source": [
        "skewness_right <- skewness(right_skewed_data)\n",
        "cat(\"Skewness (Right-Skewed):\", skewness_right, \"\\n\")"
      ],
      "metadata": {
        "colab": {
          "base_uri": "https://localhost:8080/",
          "height": 72
        },
        "id": "nRaNSOS-uLGU",
        "outputId": "314614c7-4c22-4df1-db92-58995f5aeb0c"
      },
      "execution_count": null,
      "outputs": [
        {
          "output_type": "error",
          "ename": "ERROR",
          "evalue": "Error in skewness(right_skewed_data): could not find function \"skewness\"\n",
          "traceback": [
            "Error in skewness(right_skewed_data): could not find function \"skewness\"\nTraceback:\n"
          ]
        }
      ]
    }
  ]
}