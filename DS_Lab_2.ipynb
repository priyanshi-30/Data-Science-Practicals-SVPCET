{
  "nbformat": 4,
  "nbformat_minor": 0,
  "metadata": {
    "colab": {
      "provenance": []
    },
    "kernelspec": {
      "name": "ir",
      "display_name": "R"
    },
    "language_info": {
      "name": "R"
    }
  },
  "cells": [
    {
      "cell_type": "code",
      "execution_count": null,
      "metadata": {
        "id": "e_ib-fjixSTQ",
        "colab": {
          "base_uri": "https://localhost:8080/"
        },
        "outputId": "be610b18-dc46-4784-fae3-fdcd17f32042"
      },
      "outputs": [
        {
          "output_type": "stream",
          "name": "stderr",
          "text": [
            "Installing package into ‘/usr/local/lib/R/site-library’\n",
            "(as ‘lib’ is unspecified)\n",
            "\n",
            "Installing package into ‘/usr/local/lib/R/site-library’\n",
            "(as ‘lib’ is unspecified)\n",
            "\n"
          ]
        }
      ],
      "source": [
        "install.packages(\"rvest\")\n",
        "library(rvest)\n",
        "install.packages(\"stringr\")\n",
        "library(stringr)\n"
      ]
    },
    {
      "cell_type": "code",
      "source": [
        "url<-\"https://books.toscrape.com/catalogue/category/books/travel_2/index.html\""
      ],
      "metadata": {
        "id": "OtPX9jgOl62R"
      },
      "execution_count": null,
      "outputs": []
    },
    {
      "cell_type": "code",
      "source": [
        "url<-\"https://books.toscrape.com/catalogue/category/books/travel_2/index.html\"\n",
        "titles<-read_html(url)%>%\n",
        "  html_nodes('h3')%>%\n",
        "  html_nodes('a')%>%\n",
        "html_text()"
      ],
      "metadata": {
        "id": "TB3C2EdNme9w"
      },
      "execution_count": null,
      "outputs": []
    },
    {
      "cell_type": "code",
      "source": [
        "titles"
      ],
      "metadata": {
        "colab": {
          "base_uri": "https://localhost:8080/",
          "height": 69
        },
        "id": "vjr1TAIFaRQU",
        "outputId": "b0503867-66ab-4816-be09-5d5860688358"
      },
      "execution_count": null,
      "outputs": [
        {
          "output_type": "display_data",
          "data": {
            "text/html": [
              "<style>\n",
              ".list-inline {list-style: none; margin:0; padding: 0}\n",
              ".list-inline>li {display: inline-block}\n",
              ".list-inline>li:not(:last-child)::after {content: \"\\00b7\"; padding: 0 .5ex}\n",
              "</style>\n",
              "<ol class=list-inline><li>'It\\'s Only the Himalayas'</li><li>'Full Moon over Noah’s ...'</li><li>'See America: A Celebration ...'</li><li>'Vagabonding: An Uncommon Guide ...'</li><li>'Under the Tuscan Sun'</li><li>'A Summer In Europe'</li><li>'The Great Railway Bazaar'</li><li>'A Year in Provence ...'</li><li>'The Road to Little ...'</li><li>'Neither Here nor There: ...'</li><li>'1,000 Places to See ...'</li></ol>\n"
            ],
            "text/markdown": "1. 'It\\'s Only the Himalayas'\n2. 'Full Moon over Noah’s ...'\n3. 'See America: A Celebration ...'\n4. 'Vagabonding: An Uncommon Guide ...'\n5. 'Under the Tuscan Sun'\n6. 'A Summer In Europe'\n7. 'The Great Railway Bazaar'\n8. 'A Year in Provence ...'\n9. 'The Road to Little ...'\n10. 'Neither Here nor There: ...'\n11. '1,000 Places to See ...'\n\n\n",
            "text/latex": "\\begin{enumerate*}\n\\item 'It\\textbackslash{}'s Only the Himalayas'\n\\item 'Full Moon over Noah’s ...'\n\\item 'See America: A Celebration ...'\n\\item 'Vagabonding: An Uncommon Guide ...'\n\\item 'Under the Tuscan Sun'\n\\item 'A Summer In Europe'\n\\item 'The Great Railway Bazaar'\n\\item 'A Year in Provence ...'\n\\item 'The Road to Little ...'\n\\item 'Neither Here nor There: ...'\n\\item '1,000 Places to See ...'\n\\end{enumerate*}\n",
            "text/plain": [
              " [1] \"It's Only the Himalayas\"            \"Full Moon over Noah’s ...\"         \n",
              " [3] \"See America: A Celebration ...\"     \"Vagabonding: An Uncommon Guide ...\"\n",
              " [5] \"Under the Tuscan Sun\"               \"A Summer In Europe\"                \n",
              " [7] \"The Great Railway Bazaar\"           \"A Year in Provence ...\"            \n",
              " [9] \"The Road to Little ...\"             \"Neither Here nor There: ...\"       \n",
              "[11] \"1,000 Places to See ...\"           "
            ]
          },
          "metadata": {}
        }
      ]
    },
    {
      "cell_type": "code",
      "source": [
        "urls<-read_html(url)%>%\n",
        "  html_nodes('.image_container')%>%\n",
        "  html_nodes('a')%>%\n",
        "  html_attr('href')%>%\n",
        "  str_replace_all('../../../','/')"
      ],
      "metadata": {
        "id": "NCCYfCbbqyG_"
      },
      "execution_count": null,
      "outputs": []
    },
    {
      "cell_type": "markdown",
      "source": [],
      "metadata": {
        "id": "VDc4kBloaac7"
      }
    },
    {
      "cell_type": "code",
      "source": [
        "urls"
      ],
      "metadata": {
        "colab": {
          "base_uri": "https://localhost:8080/",
          "height": 121
        },
        "id": "liqD8CZLabJo",
        "outputId": "1c445446-6e6f-4a3f-9163-1ea7e1413f7e"
      },
      "execution_count": null,
      "outputs": [
        {
          "output_type": "display_data",
          "data": {
            "text/html": [
              "<style>\n",
              ".list-inline {list-style: none; margin:0; padding: 0}\n",
              ".list-inline>li {display: inline-block}\n",
              ".list-inline>li:not(:last-child)::after {content: \"\\00b7\"; padding: 0 .5ex}\n",
              "</style>\n",
              "<ol class=list-inline><li>'/its-only-the-himalayas_981/index.html'</li><li>'/full-moon-over-noahs-ark-an-odyssey-to-mount-ararat-and-beyond_811/index.html'</li><li>'/see-america-a-celebration-of-our-national-parks-treasured-sites_732/index.html'</li><li>'/vagabonding-an-uncommon-guide-to-the-art-of-long-term-world-travel_552/index.html'</li><li>'/under-the-tuscan-sun_504/index.html'</li><li>'/a-summer-in-europe_458/index.html'</li><li>'/the-great-railway-bazaar_446/index.html'</li><li>'/a-year-in-provence-provence-1_421/index.html'</li><li>'/the-road-to-little-dribbling-adventures-of-an-american-in-britain-notes-from-a-small-island-2_277/index.html'</li><li>'/neither-here-nor-there-travels-in-europe_198/index.html'</li><li>'/1000-places-to-see-before-you-die_1/index.html'</li></ol>\n"
            ],
            "text/markdown": "1. '/its-only-the-himalayas_981/index.html'\n2. '/full-moon-over-noahs-ark-an-odyssey-to-mount-ararat-and-beyond_811/index.html'\n3. '/see-america-a-celebration-of-our-national-parks-treasured-sites_732/index.html'\n4. '/vagabonding-an-uncommon-guide-to-the-art-of-long-term-world-travel_552/index.html'\n5. '/under-the-tuscan-sun_504/index.html'\n6. '/a-summer-in-europe_458/index.html'\n7. '/the-great-railway-bazaar_446/index.html'\n8. '/a-year-in-provence-provence-1_421/index.html'\n9. '/the-road-to-little-dribbling-adventures-of-an-american-in-britain-notes-from-a-small-island-2_277/index.html'\n10. '/neither-here-nor-there-travels-in-europe_198/index.html'\n11. '/1000-places-to-see-before-you-die_1/index.html'\n\n\n",
            "text/latex": "\\begin{enumerate*}\n\\item '/its-only-the-himalayas\\_981/index.html'\n\\item '/full-moon-over-noahs-ark-an-odyssey-to-mount-ararat-and-beyond\\_811/index.html'\n\\item '/see-america-a-celebration-of-our-national-parks-treasured-sites\\_732/index.html'\n\\item '/vagabonding-an-uncommon-guide-to-the-art-of-long-term-world-travel\\_552/index.html'\n\\item '/under-the-tuscan-sun\\_504/index.html'\n\\item '/a-summer-in-europe\\_458/index.html'\n\\item '/the-great-railway-bazaar\\_446/index.html'\n\\item '/a-year-in-provence-provence-1\\_421/index.html'\n\\item '/the-road-to-little-dribbling-adventures-of-an-american-in-britain-notes-from-a-small-island-2\\_277/index.html'\n\\item '/neither-here-nor-there-travels-in-europe\\_198/index.html'\n\\item '/1000-places-to-see-before-you-die\\_1/index.html'\n\\end{enumerate*}\n",
            "text/plain": [
              " [1] \"/its-only-the-himalayas_981/index.html\"                                                                       \n",
              " [2] \"/full-moon-over-noahs-ark-an-odyssey-to-mount-ararat-and-beyond_811/index.html\"                               \n",
              " [3] \"/see-america-a-celebration-of-our-national-parks-treasured-sites_732/index.html\"                              \n",
              " [4] \"/vagabonding-an-uncommon-guide-to-the-art-of-long-term-world-travel_552/index.html\"                           \n",
              " [5] \"/under-the-tuscan-sun_504/index.html\"                                                                         \n",
              " [6] \"/a-summer-in-europe_458/index.html\"                                                                           \n",
              " [7] \"/the-great-railway-bazaar_446/index.html\"                                                                     \n",
              " [8] \"/a-year-in-provence-provence-1_421/index.html\"                                                                \n",
              " [9] \"/the-road-to-little-dribbling-adventures-of-an-american-in-britain-notes-from-a-small-island-2_277/index.html\"\n",
              "[10] \"/neither-here-nor-there-travels-in-europe_198/index.html\"                                                     \n",
              "[11] \"/1000-places-to-see-before-you-die_1/index.html\"                                                              "
            ]
          },
          "metadata": {}
        }
      ]
    },
    {
      "cell_type": "code",
      "source": [
        "ratings<-read_html(url)%>%\n",
        "  html_nodes('p.star-rating')%>%\n",
        "  html_attr('class')%>%\n",
        "  str_replace_all('star-rating','')"
      ],
      "metadata": {
        "id": "qfUTWE92mBvo"
      },
      "execution_count": null,
      "outputs": []
    },
    {
      "cell_type": "code",
      "source": [
        "ratings"
      ],
      "metadata": {
        "colab": {
          "base_uri": "https://localhost:8080/",
          "height": 34
        },
        "id": "qQmadQ8GafR_",
        "outputId": "cafe0c72-50e9-4a52-a4ef-203c61d16f56"
      },
      "execution_count": null,
      "outputs": [
        {
          "output_type": "display_data",
          "data": {
            "text/html": [
              "<style>\n",
              ".list-inline {list-style: none; margin:0; padding: 0}\n",
              ".list-inline>li {display: inline-block}\n",
              ".list-inline>li:not(:last-child)::after {content: \"\\00b7\"; padding: 0 .5ex}\n",
              "</style>\n",
              "<ol class=list-inline><li>' Two'</li><li>' Four'</li><li>' Three'</li><li>' Two'</li><li>' Three'</li><li>' Two'</li><li>' One'</li><li>' Four'</li><li>' One'</li><li>' Three'</li><li>' Five'</li></ol>\n"
            ],
            "text/markdown": "1. ' Two'\n2. ' Four'\n3. ' Three'\n4. ' Two'\n5. ' Three'\n6. ' Two'\n7. ' One'\n8. ' Four'\n9. ' One'\n10. ' Three'\n11. ' Five'\n\n\n",
            "text/latex": "\\begin{enumerate*}\n\\item ' Two'\n\\item ' Four'\n\\item ' Three'\n\\item ' Two'\n\\item ' Three'\n\\item ' Two'\n\\item ' One'\n\\item ' Four'\n\\item ' One'\n\\item ' Three'\n\\item ' Five'\n\\end{enumerate*}\n",
            "text/plain": [
              " [1] \" Two\"   \" Four\"  \" Three\" \" Two\"   \" Three\" \" Two\"   \" One\"   \" Four\" \n",
              " [9] \" One\"   \" Three\" \" Five\" "
            ]
          },
          "metadata": {}
        }
      ]
    },
    {
      "cell_type": "code",
      "source": [
        "prices<-read_html(url)%>%\n",
        "  html_nodes('.product_price')%>%\n",
        "  html_nodes('.price_color')%>%\n",
        "  html_text()"
      ],
      "metadata": {
        "id": "4gDq8ZIDqku4"
      },
      "execution_count": null,
      "outputs": []
    },
    {
      "cell_type": "code",
      "source": [
        "prices"
      ],
      "metadata": {
        "colab": {
          "base_uri": "https://localhost:8080/",
          "height": 34
        },
        "id": "Z9UueA9Oaini",
        "outputId": "b2ac05c7-bbd8-4f66-cb51-42f105f94462"
      },
      "execution_count": null,
      "outputs": [
        {
          "output_type": "display_data",
          "data": {
            "text/html": [
              "<style>\n",
              ".list-inline {list-style: none; margin:0; padding: 0}\n",
              ".list-inline>li {display: inline-block}\n",
              ".list-inline>li:not(:last-child)::after {content: \"\\00b7\"; padding: 0 .5ex}\n",
              "</style>\n",
              "<ol class=list-inline><li>'£45.17'</li><li>'£49.43'</li><li>'£48.87'</li><li>'£36.94'</li><li>'£37.33'</li><li>'£44.34'</li><li>'£30.54'</li><li>'£56.88'</li><li>'£23.21'</li><li>'£38.95'</li><li>'£26.08'</li></ol>\n"
            ],
            "text/markdown": "1. '£45.17'\n2. '£49.43'\n3. '£48.87'\n4. '£36.94'\n5. '£37.33'\n6. '£44.34'\n7. '£30.54'\n8. '£56.88'\n9. '£23.21'\n10. '£38.95'\n11. '£26.08'\n\n\n",
            "text/latex": "\\begin{enumerate*}\n\\item '£45.17'\n\\item '£49.43'\n\\item '£48.87'\n\\item '£36.94'\n\\item '£37.33'\n\\item '£44.34'\n\\item '£30.54'\n\\item '£56.88'\n\\item '£23.21'\n\\item '£38.95'\n\\item '£26.08'\n\\end{enumerate*}\n",
            "text/plain": [
              " [1] \"£45.17\" \"£49.43\" \"£48.87\" \"£36.94\" \"£37.33\" \"£44.34\" \"£30.54\" \"£56.88\"\n",
              " [9] \"£23.21\" \"£38.95\" \"£26.08\""
            ]
          },
          "metadata": {}
        }
      ]
    },
    {
      "cell_type": "code",
      "source": [
        "imgs <- read_html(url) %>%\n",
        "  html_nodes(\".image_container img\") %>%\n",
        "  html_attr(\"src\") %>%\n",
        "  str_replace_all(\"../../../\", \"/\")"
      ],
      "metadata": {
        "id": "ZmGYUv1jzIkG"
      },
      "execution_count": null,
      "outputs": []
    },
    {
      "cell_type": "code",
      "source": [
        "imgs"
      ],
      "metadata": {
        "colab": {
          "base_uri": "https://localhost:8080/",
          "height": 121
        },
        "id": "WqnGcLaL0_Lc",
        "outputId": "4f010b66-57f5-4650-891f-be64b6fe3fde"
      },
      "execution_count": null,
      "outputs": [
        {
          "output_type": "display_data",
          "data": {
            "text/html": [
              "<style>\n",
              ".list-inline {list-style: none; margin:0; padding: 0}\n",
              ".list-inline>li {display: inline-block}\n",
              ".list-inline>li:not(:last-child)::after {content: \"\\00b7\"; padding: 0 .5ex}\n",
              "</style>\n",
              "<ol class=list-inline><li>'/../media/cac/27a53d0bb95bdd88288eaf66c9230d7e.jpg'</li><li>'/../media/cac/57770cac1628f4407636635f4b85e88c.jpg'</li><li>'/../media/cac/9a7e63f12829df4b43b31d110bf3dc2e.jpg'</li><li>'/../media/cac/d5bf0090470b0b8ea46d9c166f7895aa.jpg'</li><li>'/../media/cac/98c2e95c5fd1a4e7cd5f2b63c52826cb.jpg'</li><li>'/../media/cac/4e15150388702ebca2c5a523ac270539.jpg'</li><li>'/../media/cac/76de41867f323d7f1f4fbe2fdfc1b2ba.jpg'</li><li>'/../media/cac/db46159b05faa5d95262112bf9c29ddd.jpg'</li><li>'/../media/cac/e04f8eda2a2fa947aec17640202d9ab0.jpg'</li><li>'/../media/cac/0681530a7bc301caf5c3257e1b0f0750.jpg'</li><li>'/../media/cac/d70f7edd92705c45a82118c3ff6c299d.jpg'</li></ol>\n"
            ],
            "text/markdown": "1. '/../media/cac/27a53d0bb95bdd88288eaf66c9230d7e.jpg'\n2. '/../media/cac/57770cac1628f4407636635f4b85e88c.jpg'\n3. '/../media/cac/9a7e63f12829df4b43b31d110bf3dc2e.jpg'\n4. '/../media/cac/d5bf0090470b0b8ea46d9c166f7895aa.jpg'\n5. '/../media/cac/98c2e95c5fd1a4e7cd5f2b63c52826cb.jpg'\n6. '/../media/cac/4e15150388702ebca2c5a523ac270539.jpg'\n7. '/../media/cac/76de41867f323d7f1f4fbe2fdfc1b2ba.jpg'\n8. '/../media/cac/db46159b05faa5d95262112bf9c29ddd.jpg'\n9. '/../media/cac/e04f8eda2a2fa947aec17640202d9ab0.jpg'\n10. '/../media/cac/0681530a7bc301caf5c3257e1b0f0750.jpg'\n11. '/../media/cac/d70f7edd92705c45a82118c3ff6c299d.jpg'\n\n\n",
            "text/latex": "\\begin{enumerate*}\n\\item '/../media/cac/27a53d0bb95bdd88288eaf66c9230d7e.jpg'\n\\item '/../media/cac/57770cac1628f4407636635f4b85e88c.jpg'\n\\item '/../media/cac/9a7e63f12829df4b43b31d110bf3dc2e.jpg'\n\\item '/../media/cac/d5bf0090470b0b8ea46d9c166f7895aa.jpg'\n\\item '/../media/cac/98c2e95c5fd1a4e7cd5f2b63c52826cb.jpg'\n\\item '/../media/cac/4e15150388702ebca2c5a523ac270539.jpg'\n\\item '/../media/cac/76de41867f323d7f1f4fbe2fdfc1b2ba.jpg'\n\\item '/../media/cac/db46159b05faa5d95262112bf9c29ddd.jpg'\n\\item '/../media/cac/e04f8eda2a2fa947aec17640202d9ab0.jpg'\n\\item '/../media/cac/0681530a7bc301caf5c3257e1b0f0750.jpg'\n\\item '/../media/cac/d70f7edd92705c45a82118c3ff6c299d.jpg'\n\\end{enumerate*}\n",
            "text/plain": [
              " [1] \"/../media/cac/27a53d0bb95bdd88288eaf66c9230d7e.jpg\"\n",
              " [2] \"/../media/cac/57770cac1628f4407636635f4b85e88c.jpg\"\n",
              " [3] \"/../media/cac/9a7e63f12829df4b43b31d110bf3dc2e.jpg\"\n",
              " [4] \"/../media/cac/d5bf0090470b0b8ea46d9c166f7895aa.jpg\"\n",
              " [5] \"/../media/cac/98c2e95c5fd1a4e7cd5f2b63c52826cb.jpg\"\n",
              " [6] \"/../media/cac/4e15150388702ebca2c5a523ac270539.jpg\"\n",
              " [7] \"/../media/cac/76de41867f323d7f1f4fbe2fdfc1b2ba.jpg\"\n",
              " [8] \"/../media/cac/db46159b05faa5d95262112bf9c29ddd.jpg\"\n",
              " [9] \"/../media/cac/e04f8eda2a2fa947aec17640202d9ab0.jpg\"\n",
              "[10] \"/../media/cac/0681530a7bc301caf5c3257e1b0f0750.jpg\"\n",
              "[11] \"/../media/cac/d70f7edd92705c45a82118c3ff6c299d.jpg\""
            ]
          },
          "metadata": {}
        }
      ]
    },
    {
      "cell_type": "code",
      "source": [
        "availability<-read_html(url)%>%\n",
        "  html_nodes('.product_price')%>%\n",
        "  html_nodes('.instock')%>%\n",
        "  html_text%>%\n",
        "  str_trim()"
      ],
      "metadata": {
        "id": "_gJCmrvRzhSs"
      },
      "execution_count": null,
      "outputs": []
    },
    {
      "cell_type": "code",
      "source": [
        "availability"
      ],
      "metadata": {
        "colab": {
          "base_uri": "https://localhost:8080/",
          "height": 34
        },
        "id": "4Mm8bLN51FSz",
        "outputId": "e8ee9f0e-1a12-4673-e122-69b7a92e70da"
      },
      "execution_count": null,
      "outputs": [
        {
          "output_type": "display_data",
          "data": {
            "text/html": [
              "<style>\n",
              ".list-inline {list-style: none; margin:0; padding: 0}\n",
              ".list-inline>li {display: inline-block}\n",
              ".list-inline>li:not(:last-child)::after {content: \"\\00b7\"; padding: 0 .5ex}\n",
              "</style>\n",
              "<ol class=list-inline><li>'In stock'</li><li>'In stock'</li><li>'In stock'</li><li>'In stock'</li><li>'In stock'</li><li>'In stock'</li><li>'In stock'</li><li>'In stock'</li><li>'In stock'</li><li>'In stock'</li><li>'In stock'</li></ol>\n"
            ],
            "text/markdown": "1. 'In stock'\n2. 'In stock'\n3. 'In stock'\n4. 'In stock'\n5. 'In stock'\n6. 'In stock'\n7. 'In stock'\n8. 'In stock'\n9. 'In stock'\n10. 'In stock'\n11. 'In stock'\n\n\n",
            "text/latex": "\\begin{enumerate*}\n\\item 'In stock'\n\\item 'In stock'\n\\item 'In stock'\n\\item 'In stock'\n\\item 'In stock'\n\\item 'In stock'\n\\item 'In stock'\n\\item 'In stock'\n\\item 'In stock'\n\\item 'In stock'\n\\item 'In stock'\n\\end{enumerate*}\n",
            "text/plain": [
              " [1] \"In stock\" \"In stock\" \"In stock\" \"In stock\" \"In stock\" \"In stock\"\n",
              " [7] \"In stock\" \"In stock\" \"In stock\" \"In stock\" \"In stock\""
            ]
          },
          "metadata": {}
        }
      ]
    },
    {
      "cell_type": "code",
      "source": [
        "scraped <- data.frame(\n",
        "  Title = titles,\n",
        "  URL = urls,\n",
        "  Rating = ratings,\n",
        "  Price = prices,\n",
        "  SourceImage = imgs,\n",
        "  Availability = availability\n",
        ")\n"
      ],
      "metadata": {
        "id": "Qttlkx9upFfg"
      },
      "execution_count": null,
      "outputs": []
    },
    {
      "cell_type": "code",
      "source": [
        "scraped"
      ],
      "metadata": {
        "colab": {
          "base_uri": "https://localhost:8080/",
          "height": 879
        },
        "id": "1xPbdqDDnEFA",
        "outputId": "9139aa30-9fcb-4485-8d56-ee64db98090b"
      },
      "execution_count": null,
      "outputs": [
        {
          "output_type": "display_data",
          "data": {
            "text/html": [
              "<table class=\"dataframe\">\n",
              "<caption>A data.frame: 11 × 6</caption>\n",
              "<thead>\n",
              "\t<tr><th scope=col>Title</th><th scope=col>URL</th><th scope=col>Rating</th><th scope=col>Price</th><th scope=col>SourceImage</th><th scope=col>Availability</th></tr>\n",
              "\t<tr><th scope=col>&lt;chr&gt;</th><th scope=col>&lt;chr&gt;</th><th scope=col>&lt;chr&gt;</th><th scope=col>&lt;chr&gt;</th><th scope=col>&lt;chr&gt;</th><th scope=col>&lt;chr&gt;</th></tr>\n",
              "</thead>\n",
              "<tbody>\n",
              "\t<tr><td>It's Only the Himalayas           </td><td>/its-only-the-himalayas_981/index.html                                                                       </td><td> Two  </td><td>£45.17</td><td>/../media/cac/27a53d0bb95bdd88288eaf66c9230d7e.jpg</td><td>In stock</td></tr>\n",
              "\t<tr><td>Full Moon over Noah’s ...         </td><td>/full-moon-over-noahs-ark-an-odyssey-to-mount-ararat-and-beyond_811/index.html                               </td><td> Four </td><td>£49.43</td><td>/../media/cac/57770cac1628f4407636635f4b85e88c.jpg</td><td>In stock</td></tr>\n",
              "\t<tr><td>See America: A Celebration ...    </td><td>/see-america-a-celebration-of-our-national-parks-treasured-sites_732/index.html                              </td><td> Three</td><td>£48.87</td><td>/../media/cac/9a7e63f12829df4b43b31d110bf3dc2e.jpg</td><td>In stock</td></tr>\n",
              "\t<tr><td>Vagabonding: An Uncommon Guide ...</td><td>/vagabonding-an-uncommon-guide-to-the-art-of-long-term-world-travel_552/index.html                           </td><td> Two  </td><td>£36.94</td><td>/../media/cac/d5bf0090470b0b8ea46d9c166f7895aa.jpg</td><td>In stock</td></tr>\n",
              "\t<tr><td>Under the Tuscan Sun              </td><td>/under-the-tuscan-sun_504/index.html                                                                         </td><td> Three</td><td>£37.33</td><td>/../media/cac/98c2e95c5fd1a4e7cd5f2b63c52826cb.jpg</td><td>In stock</td></tr>\n",
              "\t<tr><td>A Summer In Europe                </td><td>/a-summer-in-europe_458/index.html                                                                           </td><td> Two  </td><td>£44.34</td><td>/../media/cac/4e15150388702ebca2c5a523ac270539.jpg</td><td>In stock</td></tr>\n",
              "\t<tr><td>The Great Railway Bazaar          </td><td>/the-great-railway-bazaar_446/index.html                                                                     </td><td> One  </td><td>£30.54</td><td>/../media/cac/76de41867f323d7f1f4fbe2fdfc1b2ba.jpg</td><td>In stock</td></tr>\n",
              "\t<tr><td>A Year in Provence ...            </td><td>/a-year-in-provence-provence-1_421/index.html                                                                </td><td> Four </td><td>£56.88</td><td>/../media/cac/db46159b05faa5d95262112bf9c29ddd.jpg</td><td>In stock</td></tr>\n",
              "\t<tr><td>The Road to Little ...            </td><td>/the-road-to-little-dribbling-adventures-of-an-american-in-britain-notes-from-a-small-island-2_277/index.html</td><td> One  </td><td>£23.21</td><td>/../media/cac/e04f8eda2a2fa947aec17640202d9ab0.jpg</td><td>In stock</td></tr>\n",
              "\t<tr><td>Neither Here nor There: ...       </td><td>/neither-here-nor-there-travels-in-europe_198/index.html                                                     </td><td> Three</td><td>£38.95</td><td>/../media/cac/0681530a7bc301caf5c3257e1b0f0750.jpg</td><td>In stock</td></tr>\n",
              "\t<tr><td>1,000 Places to See ...           </td><td>/1000-places-to-see-before-you-die_1/index.html                                                              </td><td> Five </td><td>£26.08</td><td>/../media/cac/d70f7edd92705c45a82118c3ff6c299d.jpg</td><td>In stock</td></tr>\n",
              "</tbody>\n",
              "</table>\n"
            ],
            "text/markdown": "\nA data.frame: 11 × 6\n\n| Title &lt;chr&gt; | URL &lt;chr&gt; | Rating &lt;chr&gt; | Price &lt;chr&gt; | SourceImage &lt;chr&gt; | Availability &lt;chr&gt; |\n|---|---|---|---|---|---|\n| It's Only the Himalayas            | /its-only-the-himalayas_981/index.html                                                                        |  Two   | £45.17 | /../media/cac/27a53d0bb95bdd88288eaf66c9230d7e.jpg | In stock |\n| Full Moon over Noah’s ...          | /full-moon-over-noahs-ark-an-odyssey-to-mount-ararat-and-beyond_811/index.html                                |  Four  | £49.43 | /../media/cac/57770cac1628f4407636635f4b85e88c.jpg | In stock |\n| See America: A Celebration ...     | /see-america-a-celebration-of-our-national-parks-treasured-sites_732/index.html                               |  Three | £48.87 | /../media/cac/9a7e63f12829df4b43b31d110bf3dc2e.jpg | In stock |\n| Vagabonding: An Uncommon Guide ... | /vagabonding-an-uncommon-guide-to-the-art-of-long-term-world-travel_552/index.html                            |  Two   | £36.94 | /../media/cac/d5bf0090470b0b8ea46d9c166f7895aa.jpg | In stock |\n| Under the Tuscan Sun               | /under-the-tuscan-sun_504/index.html                                                                          |  Three | £37.33 | /../media/cac/98c2e95c5fd1a4e7cd5f2b63c52826cb.jpg | In stock |\n| A Summer In Europe                 | /a-summer-in-europe_458/index.html                                                                            |  Two   | £44.34 | /../media/cac/4e15150388702ebca2c5a523ac270539.jpg | In stock |\n| The Great Railway Bazaar           | /the-great-railway-bazaar_446/index.html                                                                      |  One   | £30.54 | /../media/cac/76de41867f323d7f1f4fbe2fdfc1b2ba.jpg | In stock |\n| A Year in Provence ...             | /a-year-in-provence-provence-1_421/index.html                                                                 |  Four  | £56.88 | /../media/cac/db46159b05faa5d95262112bf9c29ddd.jpg | In stock |\n| The Road to Little ...             | /the-road-to-little-dribbling-adventures-of-an-american-in-britain-notes-from-a-small-island-2_277/index.html |  One   | £23.21 | /../media/cac/e04f8eda2a2fa947aec17640202d9ab0.jpg | In stock |\n| Neither Here nor There: ...        | /neither-here-nor-there-travels-in-europe_198/index.html                                                      |  Three | £38.95 | /../media/cac/0681530a7bc301caf5c3257e1b0f0750.jpg | In stock |\n| 1,000 Places to See ...            | /1000-places-to-see-before-you-die_1/index.html                                                               |  Five  | £26.08 | /../media/cac/d70f7edd92705c45a82118c3ff6c299d.jpg | In stock |\n\n",
            "text/latex": "A data.frame: 11 × 6\n\\begin{tabular}{llllll}\n Title & URL & Rating & Price & SourceImage & Availability\\\\\n <chr> & <chr> & <chr> & <chr> & <chr> & <chr>\\\\\n\\hline\n\t It's Only the Himalayas            & /its-only-the-himalayas\\_981/index.html                                                                        &  Two   & £45.17 & /../media/cac/27a53d0bb95bdd88288eaf66c9230d7e.jpg & In stock\\\\\n\t Full Moon over Noah’s ...          & /full-moon-over-noahs-ark-an-odyssey-to-mount-ararat-and-beyond\\_811/index.html                                &  Four  & £49.43 & /../media/cac/57770cac1628f4407636635f4b85e88c.jpg & In stock\\\\\n\t See America: A Celebration ...     & /see-america-a-celebration-of-our-national-parks-treasured-sites\\_732/index.html                               &  Three & £48.87 & /../media/cac/9a7e63f12829df4b43b31d110bf3dc2e.jpg & In stock\\\\\n\t Vagabonding: An Uncommon Guide ... & /vagabonding-an-uncommon-guide-to-the-art-of-long-term-world-travel\\_552/index.html                            &  Two   & £36.94 & /../media/cac/d5bf0090470b0b8ea46d9c166f7895aa.jpg & In stock\\\\\n\t Under the Tuscan Sun               & /under-the-tuscan-sun\\_504/index.html                                                                          &  Three & £37.33 & /../media/cac/98c2e95c5fd1a4e7cd5f2b63c52826cb.jpg & In stock\\\\\n\t A Summer In Europe                 & /a-summer-in-europe\\_458/index.html                                                                            &  Two   & £44.34 & /../media/cac/4e15150388702ebca2c5a523ac270539.jpg & In stock\\\\\n\t The Great Railway Bazaar           & /the-great-railway-bazaar\\_446/index.html                                                                      &  One   & £30.54 & /../media/cac/76de41867f323d7f1f4fbe2fdfc1b2ba.jpg & In stock\\\\\n\t A Year in Provence ...             & /a-year-in-provence-provence-1\\_421/index.html                                                                 &  Four  & £56.88 & /../media/cac/db46159b05faa5d95262112bf9c29ddd.jpg & In stock\\\\\n\t The Road to Little ...             & /the-road-to-little-dribbling-adventures-of-an-american-in-britain-notes-from-a-small-island-2\\_277/index.html &  One   & £23.21 & /../media/cac/e04f8eda2a2fa947aec17640202d9ab0.jpg & In stock\\\\\n\t Neither Here nor There: ...        & /neither-here-nor-there-travels-in-europe\\_198/index.html                                                      &  Three & £38.95 & /../media/cac/0681530a7bc301caf5c3257e1b0f0750.jpg & In stock\\\\\n\t 1,000 Places to See ...            & /1000-places-to-see-before-you-die\\_1/index.html                                                               &  Five  & £26.08 & /../media/cac/d70f7edd92705c45a82118c3ff6c299d.jpg & In stock\\\\\n\\end{tabular}\n",
            "text/plain": [
              "   Title                             \n",
              "1  It's Only the Himalayas           \n",
              "2  Full Moon over Noah’s ...         \n",
              "3  See America: A Celebration ...    \n",
              "4  Vagabonding: An Uncommon Guide ...\n",
              "5  Under the Tuscan Sun              \n",
              "6  A Summer In Europe                \n",
              "7  The Great Railway Bazaar          \n",
              "8  A Year in Provence ...            \n",
              "9  The Road to Little ...            \n",
              "10 Neither Here nor There: ...       \n",
              "11 1,000 Places to See ...           \n",
              "   URL                                                                                                          \n",
              "1  /its-only-the-himalayas_981/index.html                                                                       \n",
              "2  /full-moon-over-noahs-ark-an-odyssey-to-mount-ararat-and-beyond_811/index.html                               \n",
              "3  /see-america-a-celebration-of-our-national-parks-treasured-sites_732/index.html                              \n",
              "4  /vagabonding-an-uncommon-guide-to-the-art-of-long-term-world-travel_552/index.html                           \n",
              "5  /under-the-tuscan-sun_504/index.html                                                                         \n",
              "6  /a-summer-in-europe_458/index.html                                                                           \n",
              "7  /the-great-railway-bazaar_446/index.html                                                                     \n",
              "8  /a-year-in-provence-provence-1_421/index.html                                                                \n",
              "9  /the-road-to-little-dribbling-adventures-of-an-american-in-britain-notes-from-a-small-island-2_277/index.html\n",
              "10 /neither-here-nor-there-travels-in-europe_198/index.html                                                     \n",
              "11 /1000-places-to-see-before-you-die_1/index.html                                                              \n",
              "   Rating Price  SourceImage                                       \n",
              "1   Two   £45.17 /../media/cac/27a53d0bb95bdd88288eaf66c9230d7e.jpg\n",
              "2   Four  £49.43 /../media/cac/57770cac1628f4407636635f4b85e88c.jpg\n",
              "3   Three £48.87 /../media/cac/9a7e63f12829df4b43b31d110bf3dc2e.jpg\n",
              "4   Two   £36.94 /../media/cac/d5bf0090470b0b8ea46d9c166f7895aa.jpg\n",
              "5   Three £37.33 /../media/cac/98c2e95c5fd1a4e7cd5f2b63c52826cb.jpg\n",
              "6   Two   £44.34 /../media/cac/4e15150388702ebca2c5a523ac270539.jpg\n",
              "7   One   £30.54 /../media/cac/76de41867f323d7f1f4fbe2fdfc1b2ba.jpg\n",
              "8   Four  £56.88 /../media/cac/db46159b05faa5d95262112bf9c29ddd.jpg\n",
              "9   One   £23.21 /../media/cac/e04f8eda2a2fa947aec17640202d9ab0.jpg\n",
              "10  Three £38.95 /../media/cac/0681530a7bc301caf5c3257e1b0f0750.jpg\n",
              "11  Five  £26.08 /../media/cac/d70f7edd92705c45a82118c3ff6c299d.jpg\n",
              "   Availability\n",
              "1  In stock    \n",
              "2  In stock    \n",
              "3  In stock    \n",
              "4  In stock    \n",
              "5  In stock    \n",
              "6  In stock    \n",
              "7  In stock    \n",
              "8  In stock    \n",
              "9  In stock    \n",
              "10 In stock    \n",
              "11 In stock    "
            ]
          },
          "metadata": {}
        }
      ]
    },
    {
      "cell_type": "code",
      "source": [
        "write.csv(scraped, \"bookscraped.csv\", row.names=FALSE)"
      ],
      "metadata": {
        "id": "sR7pkWw0nPnT"
      },
      "execution_count": null,
      "outputs": []
    }
  ]
}